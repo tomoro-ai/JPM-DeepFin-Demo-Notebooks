{
 "cells": [
  {
   "cell_type": "markdown",
   "metadata": {},
   "source": [
    "The documents we are querying are related to BABA, AliBaba , recent articles from Seeking Alpha as well as earnings call transcript. "
   ]
  },
  {
   "cell_type": "code",
   "execution_count": 1,
   "metadata": {},
   "outputs": [],
   "source": [
    "document_folder = './documents/'"
   ]
  },
  {
   "cell_type": "code",
   "execution_count": 4,
   "metadata": {},
   "outputs": [
    {
     "name": "stdout",
     "output_type": "stream",
     "text": [
      "Alibaba's recent earnings report raised concerns about the company's fundamentals, particularly in China, causing a 6% drop in its stock price. However, the report also showed promise, and Alibaba attempted to attract investors by announcing a $25 billion stock buyback. Despite expectations of a slowdown in China's economy, the company's free cash flow appears to be in good shape. Additionally, Alibaba's buyback could allow it to repurchase approximately 13% of its outstanding shares. Notably, Jack Ma and Joe Tsai, key figures in the company, have recently purchased a significant amount of Alibaba stock.\n"
     ]
    }
   ],
   "source": [
    "# Simplest RAG index model\n",
    "from llama_index import VectorStoreIndex, SimpleDirectoryReader\n",
    "\n",
    "documents = SimpleDirectoryReader(document_folder).load_data()\n",
    "simple_rag_index = VectorStoreIndex.from_documents(documents)\n",
    "rag_query_engine = simple_rag_index.as_query_engine()\n",
    "response = rag_query_engine.query(\"How are Alibaba doing?\")\n",
    "print(response)"
   ]
  },
  {
   "cell_type": "code",
   "execution_count": 6,
   "metadata": {},
   "outputs": [],
   "source": [
    "from llama_index import ServiceContext\n",
    "from llama_index.storage.storage_context import StorageContext\n",
    "from llama_index.graph_stores import SimpleGraphStore\n",
    "from llama_index import KnowledgeGraphIndex\n",
    "from llama_index.llms import OpenAI\n",
    "\n",
    "\n",
    "llm = OpenAI(temperature=0, model=\"gpt-4-turbo-preview\")\n",
    "service_context = ServiceContext.from_defaults(llm=llm, chunk_size_limit=512)\n",
    "\n",
    "graph_store = SimpleGraphStore()\n",
    "storage_context = StorageContext.from_defaults(graph_store=graph_store)\n",
    "\n",
    "kg_index = KnowledgeGraphIndex.from_documents(documents=documents,storage_context=storage_context,service_context=service_context)\n",
    "kg_query_engine = kg_index.as_query_engine()\n"
   ]
  },
  {
   "cell_type": "code",
   "execution_count": 9,
   "metadata": {},
   "outputs": [],
   "source": [
    "# save kg_index as a file \n",
    "\n",
    "import pickle\n",
    "with open('kg_index.pkl', 'wb') as f:\n",
    "    pickle.dump(kg_index, f)"
   ]
  },
  {
   "cell_type": "code",
   "execution_count": null,
   "metadata": {},
   "outputs": [],
   "source": [
    "from pyvis.network import Network\n",
    "\n",
    "g = kg_index.get_networkx_graph()\n",
    "net = Network(notebook=True, cdn_resources=\"in_line\", directed=True)\n",
    "net.from_nx(g)\n",
    "net.show(\"AlibabaGraph.html\")\n"
   ]
  },
  {
   "cell_type": "code",
   "execution_count": null,
   "metadata": {},
   "outputs": [
    {
     "name": "stdout",
     "output_type": "stream",
     "text": [
      "Alibaba is facing a mix of challenges and strengths. On one hand, the company is dealing with concerns such as a slow post-pandemic recovery in China, skepticism surrounding the Chinese market, and specific operational setbacks like the delayed Cloud unit spin-off. These factors have contributed to Alibaba missing Q3 expectations and experiencing weak growth in its Cloud segment due to slower business spending and uncertainty about chip supplies.\n",
      "\n",
      "On the other hand, Alibaba remains a financially robust entity, demonstrating significant profitability and generating strong free cash flow. The company announced a substantial $25 billion stock buyback program, indicating confidence in its financial health and a commitment to returning value to shareholders. This move is supported by Alibaba's impressive free cash flow, which reached 56.5 billion Chinese Yuan in a recent quarter, and an annualized run rate of $32 billion. Despite the challenges, Alibaba's actions, such as the stock buyback and its ability to maintain a strong cash flow, suggest that the company is actively managing its financial resources to navigate through the current economic landscape and maintain its position in the market.\n"
     ]
    }
   ],
   "source": [
    "response = kg_query_engine.query('What are the most divergent opinions on Alibaba?')\n",
    "print (response)"
   ]
  },
  {
   "cell_type": "code",
   "execution_count": 12,
   "metadata": {},
   "outputs": [],
   "source": [
    "def rag_query(prompt):\n",
    "    return rag_query_engine.query(prompt)\n",
    "\n",
    "def kg_query(prompt):\n",
    "    return kg_query_engine.query(prompt)"
   ]
  },
  {
   "cell_type": "code",
   "execution_count": null,
   "metadata": {},
   "outputs": [],
   "source": [
    "from ipywidgets import GridspecLayout\n",
    "import ipywidgets as widgets\n",
    "\n",
    "grid = GridspecLayout(8,6)\n",
    "\n",
    "\n",
    "submit_button = widgets.Button(\n",
    "    description='Query',\n",
    "    disabled=False,\n",
    "    button_style='', # 'success', 'info', 'warning', 'danger' or ''\n",
    "    tooltip='Press to submit',\n",
    "    icon='lock',\n",
    "    layout=widgets.Layout(height='auto', width='auto'),\n",
    ")\n",
    "\n",
    "input_box = widgets.Textarea(\n",
    "    value=None,\n",
    "    placeholder='Type a question about your documents',\n",
    "    description='Question:',\n",
    "    disabled=False,\n",
    "    layout=widgets.Layout(height='auto', width='auto'),\n",
    "    rows=4\n",
    ")\n",
    "\n",
    "results_box = widgets.Textarea(\n",
    "    value=None,\n",
    "    placeholder='Results...',\n",
    "    description='Answer:',\n",
    "    disabled=False,\n",
    "    layout=widgets.Layout(height='auto', width='auto'),\n",
    "    rows=4\n",
    ")\n",
    "\n",
    "# we will populate this later with our list of methods.\n",
    "dropdown = widgets.Select(\n",
    "    options=['RAG','KG Rag'],\n",
    "    value='RAG',\n",
    "    # rows=10,\n",
    "    description='Method:',\n",
    "    disabled=False\n",
    ")\n",
    "filter_methods = {'RAG':rag_query,'KG Rag':kg_query}\n",
    "dropdown.options = (filter_methods.keys())\n",
    "\n",
    "grid[4:7,5] = dropdown\n",
    "grid[1:4,:5] = input_box\n",
    "grid[1:3,5] = submit_button\n",
    "grid[4:8,:5] = results_box\n",
    "\n",
    "# anywhere you can now just update the variable and it will live update.\n",
    "def question(e):\n",
    "    user_input = input_box.value\n",
    "    method = filter_methods[dropdown.value]\n",
    "    results_box.value=method(user_input).response\n",
    "\n",
    "submit_button.on_click(question)\n",
    "\n",
    "grid"
   ]
  }
 ],
 "metadata": {
  "kernelspec": {
   "display_name": ".venv",
   "language": "python",
   "name": "python3"
  },
  "language_info": {
   "codemirror_mode": {
    "name": "ipython",
    "version": 3
   },
   "file_extension": ".py",
   "mimetype": "text/x-python",
   "name": "python",
   "nbconvert_exporter": "python",
   "pygments_lexer": "ipython3",
   "version": "3.11.3"
  },
  "orig_nbformat": 4
 },
 "nbformat": 4,
 "nbformat_minor": 2
}
