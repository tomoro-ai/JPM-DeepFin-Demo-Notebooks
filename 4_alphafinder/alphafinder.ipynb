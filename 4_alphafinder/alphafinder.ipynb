{
 "cells": [
  {
   "cell_type": "markdown",
   "metadata": {},
   "source": [
    "*Alphafinder*\n",
    "\n",
    "In this demo we build an Agent using the OpenAI assistants API, that can go fetch live data instead of relying on offline documentation. \n"
   ]
  },
  {
   "cell_type": "code",
   "execution_count": 2,
   "metadata": {},
   "outputs": [],
   "source": [
    "# first import what we need \n",
    "\n",
    "import json\n",
    "import time\n",
    "import os\n",
    "import certifi\n",
    "from urllib.request import urlopen\n",
    "from openai import OpenAI\n",
    "import gradio as gr"
   ]
  },
  {
   "cell_type": "code",
   "execution_count": 3,
   "metadata": {},
   "outputs": [],
   "source": [
    "# Function to Fetch Stock Data\n",
    "def fetch_stock_data(symbol):\n",
    "    api_key = os.getenv(\"FINANCIAL_MODELING_PREP_API_KEY\")\n",
    "    url = f\"https://financialmodelingprep.com/api/v3/quote/{symbol}?apikey={api_key}\"\n",
    "    response = urlopen(url, cafile=certifi.where())\n",
    "    data = response.read().decode(\"utf-8\")\n",
    "    return json.loads(data)\n"
   ]
  },
  {
   "cell_type": "code",
   "execution_count": 4,
   "metadata": {},
   "outputs": [],
   "source": [
    "# Function to fetch Earnings Transcripts\n",
    "def fetch_earnings_transcript(symbol, year, quarter):\n",
    "    api_key = os.getenv(\"FINANCIAL_MODELING_PREP_API_KEY\") \n",
    "    url = f\"https://financialmodelingprep.com/api/v3/earning_call_transcript/{symbol}?year={year}&quarter={quarter}&apikey={api_key}\"\n",
    "    response = urlopen(url, cafile=certifi.where())\n",
    "    data = response.read().decode(\"utf-8\")\n",
    "    data_json = json.loads(data)\n",
    "    for transcript in data_json:\n",
    "        if len(transcript['content']) > 20000:\n",
    "            transcript['content'] = transcript['content'][:20000]\n",
    "    return data_json\n"
   ]
  },
  {
   "cell_type": "code",
   "execution_count": 5,
   "metadata": {},
   "outputs": [],
   "source": [
    "# Add new function to tools\n",
    "tools = [\n",
    "    {\n",
    "        \"type\": \"function\",\n",
    "        \"function\": {\n",
    "        \"name\": \"fetch_stock_data\",\n",
    "        \"description\": \"Fetches stock data for a given symbol\",\n",
    "        \"parameters\": {\n",
    "            \"type\": \"object\",\n",
    "            \"properties\": {\n",
    "                \"symbol\": {\n",
    "                    \"type\": \"string\",\n",
    "                    \"description\": \"The stock symbol to query\"\n",
    "                }\n",
    "            },\n",
    "            \"required\": [\"symbol\"]\n",
    "        }\n",
    "    }\n",
    "    },\n",
    "    {\n",
    "        \"type\": \"function\",\n",
    "        \"function\": {\n",
    "        \"name\": \"fetch_earnings_transcript\",\n",
    "        \"description\": \"Fetches earnings transcript for a given symbol, year, and quarter\",\n",
    "        \"parameters\": {\n",
    "            \"type\": \"object\",\n",
    "            \"properties\": {\n",
    "                \"symbol\": {\n",
    "                    \"type\": \"string\",\n",
    "                    \"description\": \"The stock symbol to query\"\n",
    "                },\n",
    "                \"year\": {\n",
    "                    \"type\": \"number\",\n",
    "                    \"description\": \"The year of the earnings call\"\n",
    "                },\n",
    "                \"quarter\": {\n",
    "                    \"type\": \"number\",\n",
    "                    \"description\": \"The quarter of the earnings call\"\n",
    "                }\n",
    "            },\n",
    "            \"required\": [\"symbol\", \"year\", \"quarter\"]\n",
    "        }\n",
    "    }\n",
    "    }\n",
    "]\n"
   ]
  },
  {
   "cell_type": "code",
   "execution_count": 6,
   "metadata": {},
   "outputs": [],
   "source": [
    "# Initialize OpenAI client with your API key\n",
    "client = OpenAI(\n",
    "    api_key= os.getenv(\"OPENAI_API_KEY\"),\n",
    ")"
   ]
  },
  {
   "cell_type": "code",
   "execution_count": 7,
   "metadata": {},
   "outputs": [],
   "source": [
    "# Function to create an AI assistant\n",
    "def create_assistant():\n",
    "    assistant = client.beta.assistants.create(\n",
    "        name=\"JPM DeepFin Demo\",\n",
    "        instructions= '''You are a highly intelligent, concise, and expert AI assistant that provides financial insights with a critical lens. You can fetch stock data and earnings transcripts to help users make informed decisions. Make sure you summarize the most important and relevant data as your {selection} and then provide linked logical {inferences} on top of that data. Make sure to format your outputs in a clear, concise manner, in  valid markdown. Take a deep breath and think step by step before you give your answer.''',\n",
    "        model=\"gpt-4-turbo-preview\",\n",
    "        tools=tools\n",
    "    )\n",
    "    return assistant\n"
   ]
  },
  {
   "cell_type": "code",
   "execution_count": 8,
   "metadata": {},
   "outputs": [],
   "source": [
    "# Function to create a thread\n",
    "def create_thread():\n",
    "    thread = client.beta.threads.create()\n",
    "    return thread\n"
   ]
  },
  {
   "cell_type": "code",
   "execution_count": 9,
   "metadata": {},
   "outputs": [],
   "source": [
    "# Function to send a message and run the thread\n",
    "def send_and_run(content, thread, assistant):\n",
    "    message = client.beta.threads.messages.create(\n",
    "        thread_id=thread.id,\n",
    "        role=\"user\",\n",
    "        content=content,\n",
    "    )\n",
    "    return client.beta.threads.runs.create(\n",
    "        thread_id=thread.id,\n",
    "        assistant_id=assistant.id,\n",
    "    )\n"
   ]
  },
  {
   "cell_type": "code",
   "execution_count": 10,
   "metadata": {},
   "outputs": [],
   "source": [
    "# Function to get the response from a thread\n",
    "def get_response(thread):\n",
    "    return client.beta.threads.messages.list(thread_id=thread.id, order=\"asc\")\n"
   ]
  },
  {
   "cell_type": "code",
   "execution_count": 11,
   "metadata": {},
   "outputs": [],
   "source": [
    "# Function to wait for a run to finish\n",
    "def wait_on_run(run, thread, assistant):\n",
    "    while run.status == \"queued\" or run.status == \"in_progress\":\n",
    "        run = client.beta.threads.runs.retrieve(\n",
    "            thread_id=thread.id,\n",
    "            run_id=run.id,\n",
    "        )\n",
    "        time.sleep(0.5)\n",
    "    if run.status == \"requires_action\":\n",
    "        tool_call = run.required_action.submit_tool_outputs.tool_calls[0]\n",
    "        arguments = json.loads(tool_call.function.arguments)\n",
    "        if tool_call.function.name == \"fetch_stock_data\":\n",
    "            task = fetch_stock_data(**arguments)\n",
    "        elif tool_call.function.name == \"fetch_earnings_transcript\":\n",
    "            task = fetch_earnings_transcript(**arguments)\n",
    "        run = send_and_run(json.dumps(task), thread, assistant)\n",
    "    return run\n"
   ]
  },
  {
   "cell_type": "code",
   "execution_count": 14,
   "metadata": {},
   "outputs": [],
   "source": [
    "# Function for Gradio Interface. Fetches the stock data and transcript for the given ticker\n",
    "def fetch_and_process_data(ticker_text, ticker_dropdown, data_type, year, quarter):\n",
    "    ticker = ticker_text if ticker_text else ticker_dropdown\n",
    "    assistant = create_assistant()\n",
    "    thread = create_thread()\n",
    "\n",
    "    if data_type == \"Stock data\":\n",
    "        # Fetch stock data and send to the assistant\n",
    "        stock_data = fetch_stock_data(ticker)\n",
    "        run = send_and_run(json.dumps(stock_data), thread, assistant)\n",
    "        run = wait_on_run(run, thread, assistant)\n",
    "    elif data_type == \"Earnings transcript\":\n",
    "        # Fetch earnings transcript and send to the assistant\n",
    "        transcript = fetch_earnings_transcript(ticker, year, quarter)\n",
    "        run = send_and_run(json.dumps(transcript), thread, assistant)\n",
    "        run = wait_on_run(run, thread, assistant)\n",
    "\n",
    "    responses = get_response(thread)\n",
    "    response_text = \"\"\n",
    "    for message in responses.data:\n",
    "        if message.role == \"assistant\":\n",
    "            response_text += str(message.content) + \"\\n\\n\"\n",
    "    return response_text\n"
   ]
  },
  {
   "cell_type": "code",
   "execution_count": 15,
   "metadata": {},
   "outputs": [],
   "source": [
    "tickers = [\"AAPL\", \"GOOG\", \"AMZN\", \"META\", \"TSLA\", \"V\", \"MA\", \"JNJ\", \"KO\", \"NFLX\", \n",
    "           \"DIS\", \"WFC\", \"SBUX\", \"CMG\", \"PYPL\", \"EA\", \"SAM\", \"JWN\"]\n"
   ]
  },
  {
   "cell_type": "markdown",
   "metadata": {},
   "source": [
    "This is the cell that launches our basic, live agent app. Note that stock data is latest stock data (daily) whilst we need to specify year and quarter for earnings transcripts. Note that the earnings transcript analysis takes a lot longer to run than the stock price data."
   ]
  },
  {
   "cell_type": "code",
   "execution_count": 17,
   "metadata": {},
   "outputs": [
    {
     "name": "stdout",
     "output_type": "stream",
     "text": [
      "Running on local URL:  http://127.0.0.1:7863\n",
      "\n",
      "To create a public link, set `share=True` in `launch()`.\n"
     ]
    },
    {
     "data": {
      "text/html": [
       "<div><iframe src=\"http://127.0.0.1:7863/\" width=\"100%\" height=\"500\" allow=\"autoplay; camera; microphone; clipboard-read; clipboard-write;\" frameborder=\"0\" allowfullscreen></iframe></div>"
      ],
      "text/plain": [
       "<IPython.core.display.HTML object>"
      ]
     },
     "metadata": {},
     "output_type": "display_data"
    },
    {
     "data": {
      "text/plain": []
     },
     "execution_count": 17,
     "metadata": {},
     "output_type": "execute_result"
    },
    {
     "name": "stderr",
     "output_type": "stream",
     "text": [
      "/var/folders/cv/cxy_75z94pl1z5bm6xfj_khh0000gp/T/ipykernel_38419/2141677510.py:5: DeprecationWarning: cafile, capath and cadefault are deprecated, use a custom context instead.\n",
      "  response = urlopen(url, cafile=certifi.where())\n"
     ]
    }
   ],
   "source": [
    "interface = gr.Interface(\n",
    "    fn=fetch_and_process_data,\n",
    "    inputs=[\n",
    "        gr.Textbox(placeholder=\"Enter ticker\", label=\"Ticker (Text)\"),\n",
    "        gr.Dropdown(choices=tickers, label=\"Ticker (Dropdown)\"),\n",
    "        gr.Dropdown(choices=[\"Stock data\", \"Earnings transcript\"], label=\"Data Type\"),\n",
    "        gr.Dropdown(choices=[2020, 2021, 2022, 2023, 2024], label=\"Year\"),\n",
    "        gr.Dropdown(choices=[1, 2, 3, 4], label=\"Quarter\"),\n",
    "    ],\n",
    "    outputs=gr.Markdown(),\n",
    ")\n",
    "\n",
    "interface.launch()"
   ]
  }
 ],
 "metadata": {
  "kernelspec": {
   "display_name": ".venv",
   "language": "python",
   "name": "python3"
  },
  "language_info": {
   "codemirror_mode": {
    "name": "ipython",
    "version": 3
   },
   "file_extension": ".py",
   "mimetype": "text/x-python",
   "name": "python",
   "nbconvert_exporter": "python",
   "pygments_lexer": "ipython3",
   "version": "3.11.3"
  },
  "orig_nbformat": 4
 },
 "nbformat": 4,
 "nbformat_minor": 2
}
