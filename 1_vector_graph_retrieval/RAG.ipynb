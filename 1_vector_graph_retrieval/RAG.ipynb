{
 "cells": [
  {
   "cell_type": "markdown",
   "metadata": {},
   "source": [
    "# Vector & Graph Retrieval Augmented Generation\n",
    "\n",
    "In this notebook we will be using the LLama Index toolkit to store and retrieve our dataset that will be used as input into our LLM Use case. The goal here is to demonstrate how we can enhance a standard LLM to answer use case specific questions with high accuracy\n",
    "\n",
    "## Introduction"
   ]
  },
  {
   "cell_type": "markdown",
   "metadata": {},
   "source": [
    "## Imports"
   ]
  },
  {
   "cell_type": "code",
   "execution_count": 10,
   "metadata": {},
   "outputs": [
    {
     "name": "stdout",
     "output_type": "stream",
     "text": [
      "Collecting pypdf\n",
      "  Downloading pypdf-4.0.1-py3-none-any.whl.metadata (7.4 kB)\n",
      "Downloading pypdf-4.0.1-py3-none-any.whl (283 kB)\n",
      "\u001b[2K   \u001b[90m━━━━━━━━━━━━━━━━━━━━━━━━━━━━━━━━━━━━━━━━\u001b[0m \u001b[32m284.0/284.0 kB\u001b[0m \u001b[31m8.7 MB/s\u001b[0m eta \u001b[36m0:00:00\u001b[0m\n",
      "\u001b[?25h\u001b[33mDEPRECATION: textract 1.6.5 has a non-standard dependency specifier extract-msg<=0.29.*. pip 24.0 will enforce this behaviour change. A possible replacement is to upgrade to a newer version of textract or contact the author to suggest that they release a version with a conforming dependency specifiers. Discussion can be found at https://github.com/pypa/pip/issues/12063\u001b[0m\u001b[33m\n",
      "\u001b[0mInstalling collected packages: pypdf\n",
      "Successfully installed pypdf-4.0.1\n",
      "\n",
      "\u001b[1m[\u001b[0m\u001b[34;49mnotice\u001b[0m\u001b[1;39;49m]\u001b[0m\u001b[39;49m A new release of pip is available: \u001b[0m\u001b[31;49m23.3.1\u001b[0m\u001b[39;49m -> \u001b[0m\u001b[32;49m24.0\u001b[0m\n",
      "\u001b[1m[\u001b[0m\u001b[34;49mnotice\u001b[0m\u001b[1;39;49m]\u001b[0m\u001b[39;49m To update, run: \u001b[0m\u001b[32;49mpip install --upgrade pip\u001b[0m\n",
      "Note: you may need to restart the kernel to use updated packages.\n"
     ]
    }
   ],
   "source": [
    "pip install pypdf"
   ]
  },
  {
   "cell_type": "code",
   "execution_count": 11,
   "metadata": {},
   "outputs": [],
   "source": [
    "# import the llama_\n",
    "from llama_index import VectorStoreIndex, SimpleDirectoryReader\n",
    "from llama_index import ServiceContext\n",
    "from llama_index.storage.storage_context import StorageContext\n",
    "from llama_index.graph_stores import SimpleGraphStore\n",
    "from llama_index import KnowledgeGraphIndex\n",
    "from llama_index.llms import OpenAI\n",
    "\n",
    "import pickle\n",
    "\n",
    "# from pyvis.network import Network\n",
    "\n",
    "from ipywidgets import GridspecLayout\n",
    "import ipywidgets as widgets"
   ]
  },
  {
   "cell_type": "markdown",
   "metadata": {},
   "source": [
    "## API Key Setup"
   ]
  },
  {
   "cell_type": "code",
   "execution_count": 12,
   "metadata": {},
   "outputs": [],
   "source": [
    "OPENAI_API_KEY = \"insert_OPENAI_API_KEY_here\""
   ]
  },
  {
   "cell_type": "markdown",
   "metadata": {},
   "source": [
    "The documents we are querying are related to BABA, AliBaba , recent articles from Seeking Alpha as well as earnings call transcript. "
   ]
  },
  {
   "cell_type": "code",
   "execution_count": 13,
   "metadata": {},
   "outputs": [],
   "source": [
    "document_folder = './documents/'"
   ]
  },
  {
   "cell_type": "markdown",
   "metadata": {},
   "source": [
    "### First a simple example implementing RAG via Vector Embeddings:\n",
    "\n",
    "This code allows us to query the documents, retrieve relevant content from the documents with respect to the question, then this will be sent to the LLM model "
   ]
  },
  {
   "cell_type": "code",
   "execution_count": 14,
   "metadata": {},
   "outputs": [
    {
     "name": "stdout",
     "output_type": "stream",
     "text": [
      "Here is the model output: Alibaba's recent earnings report raised concerns about the company's fundamentals, particularly in China, causing a 6% drop in its stock price. However, the report also showed promise, and Alibaba attempted to attract investors by announcing a $25 billion stock buyback. Despite expectations of a slowdown in China's economy, the company's free cash flow appears to be in good shape. Additionally, Alibaba's buyback could allow them to repurchase about 13% of their outstanding shares. Notably, Jack Ma and Joe Tsai, key figures in the company, have recently purchased a significant amount of Alibaba stock.\n"
     ]
    }
   ],
   "source": [
    "#Load the directory into LLamas directory reader\n",
    "documents = SimpleDirectoryReader(document_folder).load_data()\n",
    "\n",
    "#Index the documents \n",
    "simple_rag_index = VectorStoreIndex.from_documents(documents)\n",
    "\n",
    "#Set your query engine\n",
    "rag_query_engine = simple_rag_index.as_query_engine()\n",
    "\n",
    "\n",
    "#Pass your question against the vector store to receive the relevant context and pass to the LLM\n",
    "response = rag_query_engine.query(\"How are Alibaba doing?\")\n",
    "\n",
    "print(f\"Here is the model output: {response}\")"
   ]
  },
  {
   "cell_type": "markdown",
   "metadata": {},
   "source": [
    "### Example implementing RAG via Knowledge Graph:"
   ]
  },
  {
   "cell_type": "code",
   "execution_count": null,
   "metadata": {},
   "outputs": [],
   "source": [
    "llm = OpenAI(temperature=0, model=\"gpt-4-turbo-preview\", api_base='https://jpmcproxy-j2v7yxjplq-nw.a.run.app/v1', api_key=OPENAI_API_KEY)\n",
    "\n",
    "service_context = ServiceContext.from_defaults(llm=llm, chunk_size_limit=512)\n",
    "\n",
    "graph_store = SimpleGraphStore()\n",
    "storage_context = StorageContext.from_defaults(graph_store=graph_store)\n",
    "\n",
    "kg_index = KnowledgeGraphIndex.from_documents(documents=documents,storage_context=storage_context,service_context=service_context)\n",
    "kg_query_engine = kg_index.as_query_engine()\n"
   ]
  },
  {
   "cell_type": "markdown",
   "metadata": {},
   "source": [
    "Save the knowledge graph index as a file "
   ]
  },
  {
   "cell_type": "code",
   "execution_count": 9,
   "metadata": {},
   "outputs": [],
   "source": [
    "with open('kg_index.pkl', 'wb') as f:\n",
    "    pickle.dump(kg_index, f)"
   ]
  },
  {
   "cell_type": "markdown",
   "metadata": {},
   "source": [
    "Now that we have prompted "
   ]
  },
  {
   "cell_type": "code",
   "execution_count": null,
   "metadata": {},
   "outputs": [],
   "source": [
    "g = kg_index.get_networkx_graph()\n",
    "net = Network(notebook=True, cdn_resources=\"in_line\", directed=True)\n",
    "net.from_nx(g)\n",
    "net.show(\"AlibabaGraph.html\")"
   ]
  },
  {
   "cell_type": "code",
   "execution_count": null,
   "metadata": {},
   "outputs": [
    {
     "name": "stdout",
     "output_type": "stream",
     "text": [
      "Alibaba is facing a mix of challenges and strengths. On one hand, the company is dealing with concerns such as a slow post-pandemic recovery in China, skepticism surrounding the Chinese market, and specific operational setbacks like the delayed Cloud unit spin-off. These factors have contributed to Alibaba missing Q3 expectations and experiencing weak growth in its Cloud segment due to slower business spending and uncertainty about chip supplies.\n",
      "\n",
      "On the other hand, Alibaba remains a financially robust entity, demonstrating significant profitability and generating strong free cash flow. The company announced a substantial $25 billion stock buyback program, indicating confidence in its financial health and a commitment to returning value to shareholders. This move is supported by Alibaba's impressive free cash flow, which reached 56.5 billion Chinese Yuan in a recent quarter, and an annualized run rate of $32 billion. Despite the challenges, Alibaba's actions, such as the stock buyback and its ability to maintain a strong cash flow, suggest that the company is actively managing its financial resources to navigate through the current economic landscape and maintain its position in the market.\n"
     ]
    }
   ],
   "source": [
    "response = kg_query_engine.query('What are the most divergent opinions on Alibaba?')\n",
    "print (response)"
   ]
  },
  {
   "cell_type": "code",
   "execution_count": 12,
   "metadata": {},
   "outputs": [],
   "source": [
    "def rag_query(prompt):\n",
    "    return rag_query_engine.query(prompt)\n",
    "\n",
    "def kg_query(prompt):\n",
    "    return kg_query_engine.query(prompt)"
   ]
  },
  {
   "cell_type": "code",
   "execution_count": null,
   "metadata": {},
   "outputs": [],
   "source": [
    "grid = GridspecLayout(8,6)\n",
    "\n",
    "\n",
    "submit_button = widgets.Button(\n",
    "    description='Query',\n",
    "    disabled=False,\n",
    "    button_style='', # 'success', 'info', 'warning', 'danger' or ''\n",
    "    tooltip='Press to submit',\n",
    "    icon='lock',\n",
    "    layout=widgets.Layout(height='auto', width='auto'),\n",
    ")\n",
    "\n",
    "input_box = widgets.Textarea(\n",
    "    value=None,\n",
    "    placeholder='Type a question about your documents',\n",
    "    description='Question:',\n",
    "    disabled=False,\n",
    "    layout=widgets.Layout(height='auto', width='auto'),\n",
    "    rows=4\n",
    ")\n",
    "\n",
    "results_box = widgets.Textarea(\n",
    "    value=None,\n",
    "    placeholder='Results...',\n",
    "    description='Answer:',\n",
    "    disabled=False,\n",
    "    layout=widgets.Layout(height='auto', width='auto'),\n",
    "    rows=4\n",
    ")\n",
    "\n",
    "# we will populate this later with our list of methods.\n",
    "dropdown = widgets.Select(\n",
    "    options=['RAG','KG Rag'],\n",
    "    value='RAG',\n",
    "    # rows=10,\n",
    "    description='Method:',\n",
    "    disabled=False\n",
    ")\n",
    "filter_methods = {'RAG':rag_query,'KG Rag':kg_query}\n",
    "dropdown.options = (filter_methods.keys())\n",
    "\n",
    "grid[4:7,5] = dropdown\n",
    "grid[1:4,:5] = input_box\n",
    "grid[1:3,5] = submit_button\n",
    "grid[4:8,:5] = results_box\n",
    "\n",
    "# anywhere you can now just update the variable and it will live update.\n",
    "def question(e):\n",
    "    user_input = input_box.value\n",
    "    method = filter_methods[dropdown.value]\n",
    "    results_box.value=method(user_input).response\n",
    "\n",
    "submit_button.on_click(question)\n",
    "\n",
    "grid"
   ]
  }
 ],
 "metadata": {
  "kernelspec": {
   "display_name": "Python 3 (ipykernel)",
   "language": "python",
   "name": "python3"
  },
  "language_info": {
   "codemirror_mode": {
    "name": "ipython",
    "version": 3
   },
   "file_extension": ".py",
   "mimetype": "text/x-python",
   "name": "python",
   "nbconvert_exporter": "python",
   "pygments_lexer": "ipython3",
   "version": "3.11.5"
  }
 },
 "nbformat": 4,
 "nbformat_minor": 2
}
